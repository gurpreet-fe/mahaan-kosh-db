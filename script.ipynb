{
 "cells": [
  {
   "cell_type": "code",
   "execution_count": 18,
   "metadata": {},
   "outputs": [
    {
     "data": {
      "text/plain": [
       "True"
      ]
     },
     "execution_count": 18,
     "metadata": {},
     "output_type": "execute_result"
    }
   ],
   "source": [
    "import pandas as pd\n",
    "from tabulate import tabulate\n",
    "import json\n",
    "import os\n",
    "import re\n",
    "from dotenv import load_dotenv\n",
    "from meilisearch import Client\n",
    "from variables import LATIN_GURMUKHI, PAIRI_RARA_CHARS\n",
    "\n",
    "load_dotenv()"
   ]
  },
  {
   "cell_type": "code",
   "execution_count": 19,
   "metadata": {},
   "outputs": [
    {
     "name": "stdout",
     "output_type": "stream",
     "text": [
      "http://localhost:7700\n",
      "4a08fa4ddc18643e82c78475e74226e25e4714caecbb08774a9047d35c725bfa\n"
     ]
    }
   ],
   "source": [
    "ms_url = os.getenv('MEILISEARCH_URL')\n",
    "print(ms_url)\n",
    "ms_key = f'{os.getenv('MEILISEARCH_KEY')}'\n",
    "print(ms_key)\n",
    "\n",
    "db = Client('http://localhost:7700', 'CTt64BmnTQp3SbERoImqXUEY-CegZfnuNnHZfiH1TQs')"
   ]
  },
  {
   "cell_type": "code",
   "execution_count": 20,
   "metadata": {},
   "outputs": [],
   "source": [
    "def find_incompatible_chars(series):\n",
    "    incompatible_chars = {}\n",
    "    num = 0\n",
    "\n",
    "    for val in series:\n",
    "        num += 1\n",
    "        for char in val:\n",
    "            if char not in LATIN_GURMUKHI:\n",
    "                incompatible_chars[char] = 1 if char not in incompatible_chars else incompatible_chars[char] + 1\n",
    "\n",
    "    return incompatible_chars"
   ]
  },
  {
   "cell_type": "code",
   "execution_count": 21,
   "metadata": {},
   "outputs": [
    {
     "name": "stdout",
     "output_type": "stream",
     "text": [
      "{'prefixfあJsuffix'}\n"
     ]
    }
   ],
   "source": [
    "\n",
    "def find_after_sihari(series):\n",
    "    after_sihari = set()\n",
    "    pattern = r'\\b\\w*f\\w{1,2}J\\w*\\b'\n",
    "\n",
    "    for val in series:\n",
    "        matches = re.findall(pattern, val, re.DOTALL)\n",
    "        for match in matches:\n",
    "            after_sihari.add(match)\n",
    "    \n",
    "    return after_sihari\n",
    "\n",
    "res = find_after_sihari([' afsd prefixfあJsuffix more words'])\n",
    "print(res)"
   ]
  },
  {
   "cell_type": "code",
   "execution_count": 22,
   "metadata": {},
   "outputs": [
    {
     "name": "stdout",
     "output_type": "stream",
     "text": [
      "ਪਰਤ੍ਰਿਅ\n"
     ]
    }
   ],
   "source": [
    "# Define combinational_map in Python (equivalent to JS Map of Maps)\n",
    "combinational_map = {\n",
    "    'A': {'g': '\\u0A09', 't': '\\u0A0A'},\n",
    "    'd': {'e': '\\u0A06', 'w': '\\u0A10', 'q': '\\u0A14', 'X': 'ਆਂ'},\n",
    "    'D': {'f': '\\u0A07', 'r': '\\u0A08', 's': '\\u0A0F'}\n",
    "}\n",
    "\n",
    "def transform_latin_to_gurmukhi(latin_text):\n",
    "    has_sihari = False\n",
    "    combinational_char = None\n",
    "    pairi_rara = False\n",
    "    gurmukhi_text = []\n",
    "\n",
    "\n",
    "    for i, char in enumerate(latin_text):\n",
    "        if pairi_rara:\n",
    "            pairi_rara = False\n",
    "            continue\n",
    "\n",
    "        if char == 'f':  # Handling sihari 'ਿ'\n",
    "            has_sihari = True\n",
    "            continue\n",
    "\n",
    "        if has_sihari:\n",
    "            if char == \"D\":  # Handling ੲ (Unicode: ਿ)\n",
    "                gurmukhi_text.append(\"\\u0A07\")  # Add 'ਇ'\n",
    "            else:\n",
    "                if combinational_char:\n",
    "                    gurmukhi_text.append(get_char(combinational_char))\n",
    "                    combinational_char = None\n",
    "\n",
    "                next_char = latin_text[i + 1] if i < len(latin_text) - 1 else None\n",
    "                if next_char == 'J':\n",
    "                    gurmukhi_text.extend([get_char(char) + get_char('J'), get_char('f')])\n",
    "                    pairi_rara = True\n",
    "                else:\n",
    "                    gurmukhi_text.extend([get_char(char), get_char(\"f\")])\n",
    "            has_sihari = False\n",
    "            continue\n",
    "\n",
    "        if combinational_char:\n",
    "            combi_map = combinational_map.get(combinational_char, {})\n",
    "\n",
    "            if char in combi_map:\n",
    "                gurmukhi_text.append(combi_map[char])\n",
    "            else:\n",
    "                gurmukhi_text.append(get_char(combinational_char))\n",
    "                gurmukhi_text.append(get_char(char))\n",
    "            combinational_char = None\n",
    "        elif char in combinational_map:  # Handle combinational characters\n",
    "            next_char = latin_text[i + 1] if i < len(latin_text) - 1 else None\n",
    "\n",
    "            if next_char == None:\n",
    "                gurmukhi_text.append(get_char(char))\n",
    "            else:\n",
    "                combinational_char = char\n",
    "        else:\n",
    "            gurmukhi_text.append(get_char(char))  # Default case for regular characters\n",
    "\n",
    "    return ''.join(gurmukhi_text)\n",
    "\n",
    "def get_char(char):\n",
    "    c = LATIN_GURMUKHI.get(char)\n",
    "    return c if c is not None else char\n",
    "\n",
    "x = transform_latin_to_gurmukhi('hjflJd')\n",
    "print(x)"
   ]
  },
  {
   "cell_type": "code",
   "execution_count": 23,
   "metadata": {},
   "outputs": [],
   "source": [
    "def split_definitions(unicode_txt):\n",
    "    txt = '੧. ' + unicode_txt\n",
    "    pattern = r'[\\u0A66-\\u0A6F]+\\.\\s*(.*?)\\s*(?=[\\u0A66-\\u0A6F]+\\.|$)'\n",
    "    \n",
    "    def_list = re.findall(pattern, txt, re.DOTALL)\n",
    "    return def_list"
   ]
  },
  {
   "cell_type": "code",
   "execution_count": 24,
   "metadata": {},
   "outputs": [],
   "source": [
    "df = pd.read_json('./data/in/dict.json')\n",
    "df['akharIndex'] = df['akharIndex'].astype('Int8')"
   ]
  },
  {
   "cell_type": "code",
   "execution_count": 25,
   "metadata": {},
   "outputs": [],
   "source": [
    "df2 = df.rename(columns={'lexeme': 'headword'})\n",
    "\n",
    "df2['akharIndex'] = df2['akharIndex'].ffill()"
   ]
  },
  {
   "cell_type": "code",
   "execution_count": null,
   "metadata": {},
   "outputs": [],
   "source": [
    "# ends_with_semicolon = df2['headword'].str.endswith(';');\n",
    "\n",
    "# all_have_semicolon = ends_with_semicolon.all()\n",
    "# print(\"Do all headwords have a ';' suffix?\", all_have_semicolon)\n",
    "\n",
    "# names_without_semicolon = df2[~ends_with_semicolon]['headword'].tolist()\n",
    "# print(\"Headwords without a ';' suffix:\", names_without_semicolon)\n",
    "\n",
    "series = df2['definition']\n",
    "incompatible_chars = find_incompatible_chars(series)\n",
    "sorted_incompatible_chars = dict(sorted(incompatible_chars.items(), key=lambda item: item[1]))\n",
    "sorted_incompatible_chars_desc = dict(sorted(incompatible_chars.items(), key=lambda item: item[1], reverse=True))\n",
    "pairi_rara = find_after_sihari(series)\n",
    "pairi_rara_gurmukhi = map(transform_latin_to_gurmukhi, pairi_rara)\n",
    "\n",
    "# print(sorted_incompatible_chars)\n",
    "# print(sorted_incompatible_chars_desc.keys())\n",
    "print(pairi_rara)\n",
    "print(list(pairi_rara_gurmukhi))"
   ]
  },
  {
   "cell_type": "code",
   "execution_count": 27,
   "metadata": {},
   "outputs": [],
   "source": [
    "df2['headword'] = df2['headword'].str.rstrip(';')"
   ]
  },
  {
   "cell_type": "code",
   "execution_count": 28,
   "metadata": {},
   "outputs": [
    {
     "name": "stdout",
     "output_type": "stream",
     "text": [
      "['AgSWmJbefDm, AgSWmJbeDrM' 'AgNQfyJzfl' 'AgfOJl' ... 'fbJzOe' 'fbJzfO'\n",
      " 'bJrfu, bJrur']\n"
     ]
    }
   ],
   "source": [
    "headword_list = df2['headword'].values\n",
    "filtered_df = df2[df2['headword'].str.contains(r'f.*J', case=True, na=False)]\n",
    "headword_list = filtered_df['headword'].values\n",
    "print(headword_list)"
   ]
  },
  {
   "cell_type": "code",
   "execution_count": 29,
   "metadata": {},
   "outputs": [],
   "source": [
    "id_series = df2.index + 1\n",
    "df2.insert(0, 'id', id_series)"
   ]
  },
  {
   "cell_type": "code",
   "execution_count": 30,
   "metadata": {},
   "outputs": [],
   "source": [
    "headword_series = df2['headword']\n",
    "definition_series = df2['definition']\n",
    "unicode_headword_series = headword_series.apply(lambda hw: transform_latin_to_gurmukhi(hw))\n",
    "unicode_definition_series = definition_series.apply(lambda definition: transform_latin_to_gurmukhi(definition))\n",
    "definitions_list = unicode_definition_series.apply(lambda definition: split_definitions(definition))"
   ]
  },
  {
   "cell_type": "code",
   "execution_count": 31,
   "metadata": {},
   "outputs": [],
   "source": [
    "df2.insert(3, 'unicodeHeadword', unicode_headword_series)\n",
    "df2.insert(5, 'unicodeDefinition', unicode_definition_series)\n",
    "df2.insert(6, 'definitionList', definitions_list)"
   ]
  },
  {
   "cell_type": "code",
   "execution_count": 32,
   "metadata": {},
   "outputs": [],
   "source": [
    "json_output = df2.to_json(orient='records')\n",
    "json_parsed = json.loads(json_output)\n",
    "json_formatted = json.dumps(json_parsed, indent=4)\n",
    "\n",
    "db.index('mk-6').add_documents(json_parsed)\n",
    "\n",
    "with open('./data/out/dict_out.json', 'w') as file:\n",
    "    file.write(json_formatted)"
   ]
  },
  {
   "cell_type": "code",
   "execution_count": 33,
   "metadata": {},
   "outputs": [],
   "source": [
    "# pretty_table = tabulate(df2, headers='keys', tablefmt='pretty')\n",
    "# print(pretty_table)"
   ]
  }
 ],
 "metadata": {
  "kernelspec": {
   "display_name": "mahan-kosh-db-eE9Wd_Is",
   "language": "python",
   "name": "python3"
  },
  "language_info": {
   "codemirror_mode": {
    "name": "ipython",
    "version": 3
   },
   "file_extension": ".py",
   "mimetype": "text/x-python",
   "name": "python",
   "nbconvert_exporter": "python",
   "pygments_lexer": "ipython3",
   "version": "3.12.3"
  }
 },
 "nbformat": 4,
 "nbformat_minor": 2
}
