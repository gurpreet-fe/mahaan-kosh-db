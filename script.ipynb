{
 "cells": [
  {
   "cell_type": "code",
   "execution_count": 1,
   "metadata": {},
   "outputs": [],
   "source": [
    "import pandas as pd\n",
    "from tabulate import tabulate\n",
    "import json\n",
    "from variables import LATIN_GURMUKHI"
   ]
  },
  {
   "cell_type": "code",
   "execution_count": 2,
   "metadata": {},
   "outputs": [],
   "source": [
    "def find_incompatible_chars(col):\n",
    "    incompatible_chars = set()\n",
    "    num = 0\n",
    "\n",
    "    # print(LATIN_GURMUKHI)\n",
    "\n",
    "    for val in col:\n",
    "        num += 1\n",
    "        for char in val:\n",
    "            if char not in LATIN_GURMUKHI:\n",
    "                incompatible_chars.add(char)\n",
    "\n",
    "    return incompatible_chars"
   ]
  },
  {
   "cell_type": "code",
   "execution_count": 3,
   "metadata": {},
   "outputs": [],
   "source": [
    "df = pd.read_json('./data/in/dict.json')\n",
    "df['akharIndex'] = df['akharIndex'].astype('Int8')"
   ]
  },
  {
   "cell_type": "code",
   "execution_count": 4,
   "metadata": {},
   "outputs": [],
   "source": [
    "df2 = df.rename(columns={'lexeme': 'headword'})\n",
    "\n",
    "df2['akharIndex'] = df2['akharIndex'].ffill()"
   ]
  },
  {
   "cell_type": "code",
   "execution_count": 9,
   "metadata": {},
   "outputs": [
    {
     "name": "stdout",
     "output_type": "stream",
     "text": [
      "{'=', '%', 'ě', '$', '¿', '˜', 'á', 'π', 'Ü', '¢', '!', 'ƒ', '∑', '³', '»', 'Ø', '˙', 'ó', '˝', '«', '∏', '¨', 'Þ', '®', '¾', 'ﬂ', '…', \"'\", '÷', 'è', 'ò', '⁄', '×', 'ı', '–', '¬', 'ý', '•', 'Ò', '\\uf8ff', '→', 'ñ', 'ô', '¸', '}', '©', '¹', '‰', 'Ÿ', '‘', ':', 'ª', 'Ë', 'т', 'ġ', 'É', '∆', '◊', '¡', 'Î', '˘', '¯', '≈', '√', '¥', '∞', '*', '¼', '_', '/', 'Û', 'Ý', '‡', '^', 'ð', 'ˇ', '±', '½', '£', '§', '@', 'â', 'Ï', '·', 'î', '#', 'à', 'ÿ', '&', 'Ð', 'þ', 'Ó', '\"', '²', 'ã', 'Ù', '„', '+', 'ä', '¤', 'À', 'ė', '[', '›', '?', '|', 'Ö', '°', '¦', '‚', '—', '\\t', 'ψ', '˛', '\\uf055', '~', '’', '‹', 'ß', 'ï', '™', 'ỹ', '{', '`', 'º', 'Œ', 'õ', 'Õ'}\n"
     ]
    }
   ],
   "source": [
    "# ends_with_semicolon = df2['headword'].str.endswith(';');\n",
    "\n",
    "# all_have_semicolon = ends_with_semicolon.all()\n",
    "# print(\"Do all headwords have a ';' suffix?\", all_have_semicolon)\n",
    "\n",
    "# names_without_semicolon = df2[~ends_with_semicolon]['headword'].tolist()\n",
    "# print(\"Headwords without a ';' suffix:\", names_without_semicolon)\n",
    "\n",
    "col = df2['definition']\n",
    "incompatible_chars = find_incompatible_chars(col)\n",
    "print(incompatible_chars)"
   ]
  },
  {
   "cell_type": "code",
   "execution_count": 6,
   "metadata": {},
   "outputs": [],
   "source": [
    "df2['headword'] = df2['headword'].str.rstrip(';')"
   ]
  },
  {
   "cell_type": "code",
   "execution_count": 7,
   "metadata": {},
   "outputs": [],
   "source": [
    "json_output = df2.to_json(orient='records')\n",
    "# json_formatted = json.dumps(json_output, indent=4)\n",
    "with open('./data/out/dict_out.json', 'w') as file:\n",
    "    file.write(json_output)"
   ]
  },
  {
   "cell_type": "code",
   "execution_count": 8,
   "metadata": {},
   "outputs": [],
   "source": [
    "# pretty_table = tabulate(df2, headers='keys', tablefmt='pretty', maxcolwidths=60)\n",
    "# print(pretty_table)"
   ]
  }
 ],
 "metadata": {
  "kernelspec": {
   "display_name": "mahan-kosh-db-eE9Wd_Is",
   "language": "python",
   "name": "python3"
  },
  "language_info": {
   "codemirror_mode": {
    "name": "ipython",
    "version": 3
   },
   "file_extension": ".py",
   "mimetype": "text/x-python",
   "name": "python",
   "nbconvert_exporter": "python",
   "pygments_lexer": "ipython3",
   "version": "3.12.3"
  }
 },
 "nbformat": 4,
 "nbformat_minor": 2
}
