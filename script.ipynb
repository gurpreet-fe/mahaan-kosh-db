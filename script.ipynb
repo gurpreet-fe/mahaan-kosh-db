{
 "cells": [
  {
   "cell_type": "code",
   "execution_count": 1,
   "metadata": {},
   "outputs": [],
   "source": [
    "import pandas as pd\n",
    "from tabulate import tabulate\n",
    "import json\n",
    "from variables import LATIN_GURMUKHI"
   ]
  },
  {
   "cell_type": "code",
   "execution_count": 2,
   "metadata": {},
   "outputs": [],
   "source": [
    "def find_incompatible_chars(series):\n",
    "    incompatible_chars = set()\n",
    "    num = 0\n",
    "\n",
    "    # print(LATIN_GURMUKHI)\n",
    "\n",
    "    for val in series:\n",
    "        num += 1\n",
    "        for char in val:\n",
    "            if char not in LATIN_GURMUKHI:\n",
    "                incompatible_chars.add(char)\n",
    "\n",
    "    return incompatible_chars"
   ]
  },
  {
   "cell_type": "code",
   "execution_count": 3,
   "metadata": {},
   "outputs": [],
   "source": [
    "# Define combinational_map in Python (equivalent to JS Map of Maps)\n",
    "combinational_map = {\n",
    "    'A': {'g': '\\u0A09', 't': '\\u0A0A'},\n",
    "    'd': {'e': '\\u0A06', 'w': '\\u0A10', 'q': '\\u0A14'},\n",
    "    'D': {'f': '\\u0A07', 'r': '\\u0A08', 's': '\\u0A0F'}\n",
    "}\n",
    "\n",
    "def transform_latin_to_gurmukhi(latin_text):\n",
    "    has_sihari = False\n",
    "    combinational_char = None\n",
    "    gurmukhi_text = []\n",
    "\n",
    "    for char in latin_text:\n",
    "        if char == 'f':  # Handling sihari 'ਿ'\n",
    "            has_sihari = True\n",
    "            continue\n",
    "\n",
    "        if has_sihari:\n",
    "            if char == \"D\":  # Handling ੲ (Unicode: ਿ)\n",
    "                gurmukhi_text.append(\"\\u0A07\")  # Add 'ਇ'\n",
    "            else:\n",
    "                gurmukhi_text.append(get_char(char))  # Add corresponding character\n",
    "                gurmukhi_text.append(get_char(\"f\"))   # Add 'ਿ'\n",
    "            has_sihari = False\n",
    "            continue\n",
    "\n",
    "        if combinational_char:\n",
    "            combi_map = combinational_map.get(combinational_char, {})\n",
    "            if char in combi_map:\n",
    "                gurmukhi_text.append(combi_map[char])\n",
    "            else:\n",
    "                gurmukhi_text.append(combinational_char)\n",
    "                gurmukhi_text.append(char)\n",
    "            combinational_char = None\n",
    "        elif char in combinational_map:  # Handle combinational characters\n",
    "            combinational_char = char\n",
    "        else:\n",
    "            gurmukhi_text.append(get_char(char))  # Default case for regular characters\n",
    "\n",
    "    return ''.join(gurmukhi_text)\n",
    "\n",
    "def get_char(char):\n",
    "    c = LATIN_GURMUKHI.get(char)\n",
    "    return c if c is not None else char"
   ]
  },
  {
   "cell_type": "code",
   "execution_count": 4,
   "metadata": {},
   "outputs": [],
   "source": [
    "df = pd.read_json('./data/in/dict.json')\n",
    "df['akharIndex'] = df['akharIndex'].astype('Int8')"
   ]
  },
  {
   "cell_type": "code",
   "execution_count": 5,
   "metadata": {},
   "outputs": [],
   "source": [
    "df2 = df.rename(columns={'lexeme': 'headword'})\n",
    "\n",
    "df2['akharIndex'] = df2['akharIndex'].ffill()"
   ]
  },
  {
   "cell_type": "code",
   "execution_count": 6,
   "metadata": {},
   "outputs": [],
   "source": [
    "# ends_with_semicolon = df2['headword'].str.endswith(';');\n",
    "\n",
    "# all_have_semicolon = ends_with_semicolon.all()\n",
    "# print(\"Do all headwords have a ';' suffix?\", all_have_semicolon)\n",
    "\n",
    "# names_without_semicolon = df2[~ends_with_semicolon]['headword'].tolist()\n",
    "# print(\"Headwords without a ';' suffix:\", names_without_semicolon)\n",
    "\n",
    "series = df2['definition']\n",
    "incompatible_chars = find_incompatible_chars(series)\n",
    "# print(incompatible_chars)"
   ]
  },
  {
   "cell_type": "code",
   "execution_count": 7,
   "metadata": {},
   "outputs": [],
   "source": [
    "df2['headword'] = df2['headword'].str.rstrip(';')"
   ]
  },
  {
   "cell_type": "code",
   "execution_count": 8,
   "metadata": {},
   "outputs": [],
   "source": [
    "id_series = df2.index + 1\n",
    "df2.insert(0, 'id', id_series)"
   ]
  },
  {
   "cell_type": "code",
   "execution_count": 9,
   "metadata": {},
   "outputs": [],
   "source": [
    "headword_series = df2['headword']\n",
    "definition_series = df2['definition']\n",
    "unicode_headword_series = headword_series.apply(lambda hw: transform_latin_to_gurmukhi(hw))\n",
    "unicode_definition_series = definition_series.apply(lambda definition: transform_latin_to_gurmukhi(definition))\n",
    "\n",
    "df2.insert(3, 'unicodeHeadword', unicode_headword_series)\n",
    "df2.insert(5, 'unicodeDefinition', unicode_definition_series)"
   ]
  },
  {
   "cell_type": "code",
   "execution_count": 10,
   "metadata": {},
   "outputs": [],
   "source": [
    "json_output = df2.to_json(orient='records')\n",
    "# json_formatted = json.dumps(json_output, indent=4)\n",
    "with open('./data/out/dict_out.json', 'w') as file:\n",
    "    file.write(json_output)"
   ]
  },
  {
   "cell_type": "code",
   "execution_count": 11,
   "metadata": {},
   "outputs": [],
   "source": [
    "# pretty_table = tabulate(df2, headers='keys', tablefmt='pretty')\n",
    "# print(pretty_table)"
   ]
  }
 ],
 "metadata": {
  "kernelspec": {
   "display_name": "mahan-kosh-db-eE9Wd_Is",
   "language": "python",
   "name": "python3"
  },
  "language_info": {
   "codemirror_mode": {
    "name": "ipython",
    "version": 3
   },
   "file_extension": ".py",
   "mimetype": "text/x-python",
   "name": "python",
   "nbconvert_exporter": "python",
   "pygments_lexer": "ipython3",
   "version": "3.12.3"
  }
 },
 "nbformat": 4,
 "nbformat_minor": 2
}
